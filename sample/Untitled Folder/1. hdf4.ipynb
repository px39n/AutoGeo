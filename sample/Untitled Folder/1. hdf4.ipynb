{
 "cells": [
  {
   "cell_type": "code",
   "execution_count": 35,
   "id": "8eca23ba-d65e-4d9c-9ffc-268863d5b83f",
   "metadata": {},
   "outputs": [],
   "source": [
    "import sys \n",
    "sys.path.append(\"C:/Users/isxzl/OneDrive/Code/AutoGeo\")\n",
    "import AutoGeo"
   ]
  },
  {
   "cell_type": "code",
   "execution_count": 39,
   "id": "4c4db10c-9727-4094-9a22-59d934546e36",
   "metadata": {
    "scrolled": true
   },
   "outputs": [
    {
     "name": "stdout",
     "output_type": "stream",
     "text": [
      "================================print product involved================================\n",
      "0: [203x135] Scan_Start_Time mod04 (64-bit floating-point)\n",
      "1: [203x135] Solar_Zenith mod04 (16-bit integer)\n",
      "2: [203x135] Solar_Azimuth mod04 (16-bit integer)\n",
      "3: [203x135] Sensor_Zenith mod04 (16-bit integer)\n",
      "4: [203x135] Sensor_Azimuth mod04 (16-bit integer)\n",
      "5: [203x135] Scattering_Angle mod04 (16-bit integer)\n",
      "6: [203x135] Land_sea_Flag mod04 (16-bit integer)\n",
      "7: [4060x2708] Aerosol_Cldmask_Land_Ocean mod04 (16-bit integer)\n",
      "8: [4060x2708] Cloud_Pixel_Distance_Land_Ocean mod04 (16-bit integer)\n",
      "9: [203x135] Land_Ocean_Quality_Flag mod04 (16-bit integer)\n",
      "10: [203x135] Optical_Depth_Land_And_Ocean mod04 (16-bit integer)\n",
      "11: [203x135] Image_Optical_Depth_Land_And_Ocean mod04 (16-bit integer)\n",
      "12: [203x135] Average_Cloud_Pixel_Distance_Land_Ocean mod04 (16-bit integer)\n",
      "13: [203x135] Aerosol_Type_Land mod04 (16-bit integer)\n",
      "14: [203x135] Fitting_Error_Land mod04 (16-bit integer)\n",
      "15: [3x203x135] Surface_Reflectance_Land mod04 (16-bit integer)\n",
      "16: [3x203x135] Corrected_Optical_Depth_Land mod04 (16-bit integer)\n",
      "17: [203x135] Corrected_Optical_Depth_Land_wav2p1 mod04 (16-bit integer)\n",
      "18: [203x135] Optical_Depth_Ratio_Small_Land mod04 (16-bit integer)\n",
      "19: [10x203x135] Number_Pixels_Used_Land mod04 (16-bit integer)\n",
      "20: [10x203x135] Mean_Reflectance_Land mod04 (16-bit integer)\n",
      "21: [10x203x135] STD_Reflectance_Land mod04 (16-bit integer)\n",
      "22: [203x135] Mass_Concentration_Land mod04 (32-bit floating-point)\n",
      "23: [203x135] Aerosol_Cloud_Fraction_Land mod04 (16-bit integer)\n",
      "24: [203x135x6] Quality_Assurance_Land mod04 (8-bit integer)\n",
      "25: [2x203x135] Solution_Index_Ocean_Small mod04 (16-bit integer)\n",
      "26: [2x203x135] Solution_Index_Ocean_Large mod04 (16-bit integer)\n",
      "27: [7x203x135] Effective_Optical_Depth_Best_Ocean mod04 (16-bit integer)\n",
      "28: [7x203x135] Effective_Optical_Depth_Average_Ocean mod04 (16-bit integer)\n",
      "29: [7x203x135] Optical_Depth_Small_Best_Ocean mod04 (16-bit integer)\n",
      "30: [7x203x135] Optical_Depth_Small_Average_Ocean mod04 (16-bit integer)\n",
      "31: [7x203x135] Optical_Depth_Large_Best_Ocean mod04 (16-bit integer)\n",
      "32: [7x203x135] Optical_Depth_Large_Average_Ocean mod04 (16-bit integer)\n",
      "33: [2x203x135] Mass_Concentration_Ocean mod04 (32-bit floating-point)\n",
      "34: [203x135] Aerosol_Cloud_Fraction_Ocean mod04 (16-bit integer)\n",
      "35: [2x203x135] Effective_Radius_Ocean mod04 (16-bit integer)\n",
      "36: [2x203x135] PSML003_Ocean mod04 (32-bit floating-point)\n",
      "37: [7x203x135] Asymmetry_Factor_Best_Ocean mod04 (16-bit integer)\n",
      "38: [7x203x135] Asymmetry_Factor_Average_Ocean mod04 (16-bit integer)\n",
      "39: [7x203x135] Backscattering_Ratio_Best_Ocean mod04 (16-bit integer)\n",
      "40: [7x203x135] Backscattering_Ratio_Average_Ocean mod04 (16-bit integer)\n",
      "41: [203x135] Angstrom_Exponent_1_Ocean mod04 (16-bit integer)\n",
      "42: [203x135] Angstrom_Exponent_2_Ocean mod04 (16-bit integer)\n",
      "43: [2x203x135] Least_Squares_Error_Ocean mod04 (16-bit integer)\n",
      "44: [203x135] Optical_Depth_Ratio_Small_Ocean_0.55micron mod04 (16-bit integer)\n",
      "45: [9x203x135] Optical_Depth_by_models_ocean mod04 (16-bit integer)\n",
      "46: [10x203x135] Number_Pixels_Used_Ocean mod04 (16-bit integer)\n",
      "47: [10x203x135] Mean_Reflectance_Ocean mod04 (16-bit integer)\n",
      "48: [10x203x135] STD_Reflectance_Ocean mod04 (16-bit integer)\n",
      "49: [203x135x5] Quality_Assurance_Ocean mod04 (8-bit integer)\n",
      "50: [203x135] Deep_Blue_Aerosol_Optical_Depth_550_Land mod04 (16-bit integer)\n",
      "51: [3x203x135] Deep_Blue_Spectral_Aerosol_Optical_Depth_Land mod04 (16-bit integer)\n",
      "52: [203x135] Deep_Blue_Angstrom_Exponent_Land mod04 (16-bit integer)\n",
      "53: [3x203x135] Deep_Blue_Spectral_Single_Scattering_Albedo_Land mod04 (16-bit integer)\n",
      "54: [3x203x135] Deep_Blue_Spectral_Surface_Reflectance_Land mod04 (16-bit integer)\n",
      "55: [3x203x135] Deep_Blue_Spectral_TOA_Reflectance_Land mod04 (16-bit integer)\n",
      "56: [203x135] Deep_Blue_Number_Pixels_Used_550_Land mod04 (16-bit integer)\n",
      "57: [203x135] Deep_Blue_Aerosol_Optical_Depth_550_Land_STD mod04 (16-bit integer)\n",
      "58: [203x135] Deep_Blue_Cloud_Fraction_Land mod04 (16-bit integer)\n",
      "59: [203x135] Deep_Blue_Aerosol_Optical_Depth_550_Land_QA_Flag mod04 (16-bit integer)\n",
      "60: [203x135] Deep_Blue_Algorithm_Flag_Land mod04 (16-bit integer)\n",
      "61: [203x135] Deep_Blue_Aerosol_Optical_Depth_550_Land_Best_Estimate mod04 (16-bit integer)\n",
      "62: [203x135] Deep_Blue_Aerosol_Optical_Depth_550_Land_Estimated_Uncertainty mod04 (16-bit integer)\n",
      "63: [203x135] AOD_550_Dark_Target_Deep_Blue_Combined mod04 (16-bit integer)\n",
      "64: [203x135] AOD_550_Dark_Target_Deep_Blue_Combined_QA_Flag mod04 (16-bit integer)\n",
      "65: [203x135] AOD_550_Dark_Target_Deep_Blue_Combined_Algorithm_Flag mod04 (16-bit integer)\n",
      "66: [203x135] Glint_Angle mod04 (16-bit integer)\n",
      "67: [203x135] Wind_Speed_Ncep_Ocean mod04 (16-bit integer)\n",
      "68: [203x135] Topographic_Altitude_Land mod04 (16-bit integer)\n",
      "69: [203x135] Effective_Optical_Depth_0p55um_Ocean mod04 (16-bit integer)\n",
      "================================metainfo for each product================================\n"
     ]
    },
    {
     "ename": "RasterioIOError",
     "evalue": "'HDF4_EOS:EOS_SWATH:\"C:/Users/isxzl/OneDrive/Code/AutoGeo/data/hdf4/MOD04_L2.A2023001.0350.061.2023001180312.hdf\":mod04:Scan_Start_Time' does not exist in the file system, and is not recognized as a supported dataset name.",
     "output_type": "error",
     "traceback": [
      "\u001b[1;31m---------------------------------------------------------------------------\u001b[0m",
      "\u001b[1;31mCPLE_OpenFailedError\u001b[0m                      Traceback (most recent call last)",
      "File \u001b[1;32mrasterio\\\\_base.pyx:310\u001b[0m, in \u001b[0;36mrasterio._base.DatasetBase.__init__\u001b[1;34m()\u001b[0m\n",
      "File \u001b[1;32mrasterio\\\\_base.pyx:221\u001b[0m, in \u001b[0;36mrasterio._base.open_dataset\u001b[1;34m()\u001b[0m\n",
      "File \u001b[1;32mrasterio\\\\_err.pyx:221\u001b[0m, in \u001b[0;36mrasterio._err.exc_wrap_pointer\u001b[1;34m()\u001b[0m\n",
      "\u001b[1;31mCPLE_OpenFailedError\u001b[0m: 'HDF4_EOS:EOS_SWATH:\"C:/Users/isxzl/OneDrive/Code/AutoGeo/data/hdf4/MOD04_L2.A2023001.0350.061.2023001180312.hdf\":mod04:Scan_Start_Time' does not exist in the file system, and is not recognized as a supported dataset name.",
      "\nDuring handling of the above exception, another exception occurred:\n",
      "\u001b[1;31mRasterioIOError\u001b[0m                           Traceback (most recent call last)",
      "Cell \u001b[1;32mIn[39], line 32\u001b[0m\n\u001b[0;32m     29\u001b[0m \u001b[38;5;28;01mfor\u001b[39;00m subdataset \u001b[38;5;129;01min\u001b[39;00m subdatasets:\n\u001b[0;32m     30\u001b[0m     subdataset_path \u001b[38;5;241m=\u001b[39m subdataset[\u001b[38;5;241m0\u001b[39m]\n\u001b[1;32m---> 32\u001b[0m     \u001b[38;5;28;01mwith\u001b[39;00m \u001b[43mrasterio\u001b[49m\u001b[38;5;241;43m.\u001b[39;49m\u001b[43mopen\u001b[49m\u001b[43m(\u001b[49m\u001b[43msubdataset_path\u001b[49m\u001b[43m)\u001b[49m \u001b[38;5;28;01mas\u001b[39;00m src:\n\u001b[0;32m     33\u001b[0m         \u001b[38;5;66;03m# Collect metadata and number of bands\u001b[39;00m\n\u001b[0;32m     34\u001b[0m         meta \u001b[38;5;241m=\u001b[39m src\u001b[38;5;241m.\u001b[39mmeta\n\u001b[0;32m     35\u001b[0m         meta[\u001b[38;5;124m'\u001b[39m\u001b[38;5;124mbands\u001b[39m\u001b[38;5;124m'\u001b[39m] \u001b[38;5;241m=\u001b[39m src\u001b[38;5;241m.\u001b[39mcount\n",
      "File \u001b[1;32m~\\anaconda3\\envs\\EO\\lib\\site-packages\\rasterio\\env.py:451\u001b[0m, in \u001b[0;36mensure_env_with_credentials.<locals>.wrapper\u001b[1;34m(*args, **kwds)\u001b[0m\n\u001b[0;32m    448\u001b[0m     session \u001b[38;5;241m=\u001b[39m DummySession()\n\u001b[0;32m    450\u001b[0m \u001b[38;5;28;01mwith\u001b[39;00m env_ctor(session\u001b[38;5;241m=\u001b[39msession):\n\u001b[1;32m--> 451\u001b[0m     \u001b[38;5;28;01mreturn\u001b[39;00m f(\u001b[38;5;241m*\u001b[39margs, \u001b[38;5;241m*\u001b[39m\u001b[38;5;241m*\u001b[39mkwds)\n",
      "File \u001b[1;32m~\\anaconda3\\envs\\EO\\lib\\site-packages\\rasterio\\__init__.py:317\u001b[0m, in \u001b[0;36mopen\u001b[1;34m(fp, mode, driver, width, height, count, crs, transform, dtype, nodata, sharing, **kwargs)\u001b[0m\n\u001b[0;32m    314\u001b[0m path \u001b[38;5;241m=\u001b[39m _parse_path(raw_dataset_path)\n\u001b[0;32m    316\u001b[0m \u001b[38;5;28;01mif\u001b[39;00m mode \u001b[38;5;241m==\u001b[39m \u001b[38;5;124m\"\u001b[39m\u001b[38;5;124mr\u001b[39m\u001b[38;5;124m\"\u001b[39m:\n\u001b[1;32m--> 317\u001b[0m     dataset \u001b[38;5;241m=\u001b[39m DatasetReader(path, driver\u001b[38;5;241m=\u001b[39mdriver, sharing\u001b[38;5;241m=\u001b[39msharing, \u001b[38;5;241m*\u001b[39m\u001b[38;5;241m*\u001b[39mkwargs)\n\u001b[0;32m    318\u001b[0m \u001b[38;5;28;01melif\u001b[39;00m mode \u001b[38;5;241m==\u001b[39m \u001b[38;5;124m\"\u001b[39m\u001b[38;5;124mr+\u001b[39m\u001b[38;5;124m\"\u001b[39m:\n\u001b[0;32m    319\u001b[0m     dataset \u001b[38;5;241m=\u001b[39m get_writer_for_path(path, driver\u001b[38;5;241m=\u001b[39mdriver)(\n\u001b[0;32m    320\u001b[0m         path, mode, driver\u001b[38;5;241m=\u001b[39mdriver, sharing\u001b[38;5;241m=\u001b[39msharing, \u001b[38;5;241m*\u001b[39m\u001b[38;5;241m*\u001b[39mkwargs\n\u001b[0;32m    321\u001b[0m     )\n",
      "File \u001b[1;32mrasterio\\\\_base.pyx:312\u001b[0m, in \u001b[0;36mrasterio._base.DatasetBase.__init__\u001b[1;34m()\u001b[0m\n",
      "\u001b[1;31mRasterioIOError\u001b[0m: 'HDF4_EOS:EOS_SWATH:\"C:/Users/isxzl/OneDrive/Code/AutoGeo/data/hdf4/MOD04_L2.A2023001.0350.061.2023001180312.hdf\":mod04:Scan_Start_Time' does not exist in the file system, and is not recognized as a supported dataset name."
     ]
    }
   ],
   "source": [
    "from osgeo import gdal\n",
    "# Replace this with your HDF5 file path\n",
    "#hdf4_file_path = 'C:/Users/isxzl/OneDrive/Code/AutoGeo/data/MOD04_L2.A2023001.0210.061.2023001132858.hdf'\n",
    "#hdf4_file_path = r'C:\\Datasets\\Zhejiang20-23RS\\LandUse/MCD12Q1.A2019001.h28v05.061.2022169220530.hdf'\n",
    "hdf4_file_path=r'C:/Users/isxzl/OneDrive/Code/AutoGeo/data/hdf4/MOD04_L2.A2023001.0350.061.2023001180312.hdf'\n",
    "\n",
    "\n",
    "print(\"================================print product involved================================\")\n",
    "\n",
    "\n",
    "hdf4_dataset = gdal.Open(hdf4_file_path)\n",
    "subdatasets = hdf4_dataset.GetSubDatasets()\n",
    "\n",
    "for idx, subdataset in enumerate(subdatasets):\n",
    "    print(f\"{idx}: {subdataset[1]}\")\n",
    "\n",
    "print(\"================================metainfo for each product================================\")\n",
    "\n",
    "from prettytable import PrettyTable\n",
    "import rasterio\n",
    "\n",
    "# Create a PrettyTable object\n",
    "table = PrettyTable()\n",
    "\n",
    "# Initialize a counter for the index\n",
    "index = 0\n",
    "\n",
    "# Iterate over each subdataset\n",
    "for subdataset in subdatasets:\n",
    "    subdataset_path = subdataset[0]\n",
    "\n",
    "    with rasterio.open(subdataset_path) as src:\n",
    "        # Collect metadata and number of bands\n",
    "        meta = src.meta\n",
    "        meta['bands'] = src.count\n",
    "\n",
    "        # Add field names to the table if it's the first iteration\n",
    "        if not table.field_names:\n",
    "            # Add 'index' at the beginning of the field names\n",
    "            table.field_names = ['index'] + list(meta.keys())\n",
    "\n",
    "        # Add the metadata to the table\n",
    "        table.add_row([index] + list(meta.values()))\n",
    "\n",
    "        # Increment the index\n",
    "        index += 1\n",
    "\n",
    "# Print the PrettyTable\n",
    "print(table)\n"
   ]
  },
  {
   "cell_type": "code",
   "execution_count": null,
   "id": "6c405c6a-ea7a-484f-b858-d7808f3a66bb",
   "metadata": {},
   "outputs": [],
   "source": [
    "from osgeo import gdal\n",
    "import xarray as xr\n",
    "import numpy as np\n",
    "\n",
    "def hdf_to_xarray(hdf_file_path):\n",
    "    # Open the HDF file\n",
    "    hdf_dataset = gdal.Open(hdf_file_path)\n",
    "    \n",
    "    # List all subdatasets\n",
    "    subdatasets = hdf_dataset.GetSubDatasets()\n",
    "    \n",
    "    # Initialize a dictionary to hold DataArrays for each subdataset\n",
    "    data_arrays = {}\n",
    "    \n",
    "    # Loop through subdatasets\n",
    "    for subdataset in subdatasets:\n",
    "        # Get name and path\n",
    "        path,name= subdataset\n",
    "        \n",
    "        # Open subdataset\n",
    "        subdataset_ds = gdal.Open(path)\n",
    "        \n",
    "        # Read data into numpy array\n",
    "        data = subdataset_ds.ReadAsArray()\n",
    "        \n",
    "        # Create an xarray DataArray, you can add coords and dims as needed\n",
    "        # Here, we assume a simple 2D array without specific coordinates\n",
    "        data_array = xr.DataArray(data, dims=['y', 'x'])\n",
    "        \n",
    "        # Add to our dictionary, using a cleaned up name\n",
    "        clean_name = path.split(':')[-1]  # Simplify this as needed\n",
    "        data_arrays[clean_name] = data_array\n",
    "    \n",
    "    # Combine all DataArrays into a single Dataset\n",
    "    dataset = xr.Dataset(data_arrays)\n",
    "    \n",
    "    return dataset\n",
    "\n",
    "# Replace this with your actual HDF file path\n",
    "hdf_file_path = hdf4_file_path\n",
    "\n",
    "# Convert the HDF file to an xarray Dataset\n",
    "xarray_dataset = hdf_to_xarray(hdf_file_path)\n",
    "\n",
    "# Now, xarray_dataset is an xarray Dataset containing all the subdatasets from the HDF file\n",
    "xarray_dataset\n"
   ]
  },
  {
   "cell_type": "code",
   "execution_count": 54,
   "id": "3da3980c-eaec-46b4-bdc9-5068fd1a09e0",
   "metadata": {},
   "outputs": [
    {
     "data": {
      "text/plain": [
       "'HDF4_EOS:EOS_SWATH:\"C:/Users/isxzl/OneDrive/Code/AutoGeo/data/hdf4/MOD04_L2.A2023001.0350.061.2023001180312.hdf\":mod04:Scan_Start_Time'"
      ]
     },
     "execution_count": 54,
     "metadata": {},
     "output_type": "execute_result"
    }
   ],
   "source": [
    "from osgeo import gdal\n",
    "\n",
    "# Open the HDF4 file\n",
    "hdf4_dataset = gdal.Open(hdf4_file_path)\n",
    "\n",
    "# List subdatasets\n",
    "subdatasets = hdf4_dataset.GetSubDatasets()\n",
    "\n",
    "# Open a specific subdataset\n",
    "subdataset_index = 0  # Example: Change this to the index of the subdataset you want to open\n",
    "subdataset_path = subdatasets[subdataset_index][0]\n",
    "subdataset_ds = gdal.Open(subdataset_path)\n",
    "subdatasets[subdataset_index][0]\n",
    "# Now you can work with `subdataset_ds` directly using GDAL functions\n"
   ]
  },
  {
   "cell_type": "code",
   "execution_count": 56,
   "id": "9a912fc9-9057-4be3-95d2-4b05c92c390f",
   "metadata": {},
   "outputs": [
    {
     "data": {
      "text/plain": [
       "(203, 135)"
      ]
     },
     "execution_count": 56,
     "metadata": {},
     "output_type": "execute_result"
    }
   ],
   "source": [
    "subdataset_ds.ReadAsArray().shape"
   ]
  },
  {
   "cell_type": "code",
   "execution_count": null,
   "id": "84adf022-13b7-4f33-8150-2907b4130000",
   "metadata": {},
   "outputs": [],
   "source": []
  }
 ],
 "metadata": {
  "kernelspec": {
   "display_name": "Python 3 (ipykernel)",
   "language": "python",
   "name": "python3"
  },
  "language_info": {
   "codemirror_mode": {
    "name": "ipython",
    "version": 3
   },
   "file_extension": ".py",
   "mimetype": "text/x-python",
   "name": "python",
   "nbconvert_exporter": "python",
   "pygments_lexer": "ipython3",
   "version": "3.10.13"
  }
 },
 "nbformat": 4,
 "nbformat_minor": 5
}
