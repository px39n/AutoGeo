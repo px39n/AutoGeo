{
 "cells": [
  {
   "cell_type": "code",
   "execution_count": 1,
   "id": "f88713b8-0d10-4e5b-ac56-f854de0bc221",
   "metadata": {},
   "outputs": [],
   "source": [
    "import sys \n",
    "sys.path.append(\"C:/Users/isxzl/OneDrive/Code/AutoGeo\")\n",
    "import AutoGeo\n",
    "\n"
   ]
  },
  {
   "cell_type": "code",
   "execution_count": 4,
   "id": "425b1de4-6a3a-4b03-a9f6-ad6b7f746cfe",
   "metadata": {},
   "outputs": [],
   "source": []
  },
  {
   "cell_type": "code",
   "execution_count": 6,
   "id": "129a0c77-b6b3-4939-8a1a-d893cc574d63",
   "metadata": {},
   "outputs": [
    {
     "name": "stderr",
     "output_type": "stream",
     "text": [
      "100%|██████████████████████████████████████████████████████████████████████████████████| 31/31 [00:42<00:00,  1.36s/it]\n"
     ]
    },
    {
     "data": {
      "text/plain": [
       "0"
      ]
     },
     "execution_count": 6,
     "metadata": {},
     "output_type": "execute_result"
    }
   ],
   "source": [
    "\n",
    "# Recursively download files at URL\n",
    "source=\"https://ladsweb.modaps.eosdis.nasa.gov/archive/orders/502078783/\"\n",
    "\n",
    "# Store directory structure in DIR\n",
    "destination=r'C:\\Users\\isxzl\\OneDrive\\Code\\AutoGeo\\data\\AOD' \n",
    "\n",
    "# Use app token TOK to authenticate\n",
    "token=\"eyJ0eXAiOiJKV1QiLCJhbGciOiJIUzI1NiJ9.eyJlbWFpbF9hZGRyZXN\\\n",
    "zIjoiaXN4emwzOUBnbWFpbC5jb20iLCJpc3MiOiJBUFMgT0F1dGgyIEF1dGhlbnR\\\n",
    "pY2F0b3IiLCJpYXQiOjE3MDQ1MTU0NjMsIm5iZiI6MTcwNDUxNTQ2MywiZXhwIjox\\\n",
    "ODYyMTk1NDYzLCJ1aWQiOiJweDM5bjEiLCJ0b2tlbkNyZWF0b3IiOiJweDM5bjEif\\\n",
    "Q.AXHJp85lzyY_O_BRW3QQhrUUIwRpnzDZ9KXIkdeheEU\"\n",
    "\n",
    "AutoGeo.data.LAADSdownloader(source, destination, token)\n"
   ]
  },
  {
   "cell_type": "code",
   "execution_count": null,
   "id": "d293cb63-d384-4869-91c8-b0b9e267a019",
   "metadata": {},
   "outputs": [
    {
     "name": "stderr",
     "output_type": "stream",
     "text": [
      "2024-02-16 12:56:29,879 INFO Welcome to the CDS\n",
      "2024-02-16 12:56:29,880 INFO Sending request to https://cds.climate.copernicus.eu/api/v2/resources/reanalysis-era5-land\n",
      "2024-02-16 12:56:30,224 INFO Request is queued\n"
     ]
    }
   ],
   "source": [
    "import cdsapi\n",
    "\n",
    "c = cdsapi.Client()\n",
    "\n",
    "c.retrieve(\n",
    "    'reanalysis-era5-land',\n",
    "    {\n",
    "        'variable': [\n",
    "            'lake_mix_layer_depth', 'leaf_area_index_high_vegetation', 'leaf_area_index_low_vegetation',\n",
    "            'skin_reservoir_content', 'soil_temperature_level_4', 'surface_net_thermal_radiation',\n",
    "            'surface_pressure', 'surface_thermal_radiation_downwards', 'total_precipitation',\n",
    "            'volumetric_soil_water_layer_3', 'volumetric_soil_water_layer_4',\n",
    "        ],\n",
    "        'year': '2022',\n",
    "        'month': '01',\n",
    "        'day': [\n",
    "            '01', '02', '03',\n",
    "            '04', '05', '06',\n",
    "            '07', '08', '09',\n",
    "            '10', '11', '12',\n",
    "            '13', '14', '15',\n",
    "            '16', '17', '18',\n",
    "            '19', '20', '21',\n",
    "            '22', '23', '24',\n",
    "            '25', '26', '27',\n",
    "            '28', '29', '30',\n",
    "            '31',\n",
    "        ],\n",
    "        'time': [\n",
    "            '00:00', '01:00', '02:00',\n",
    "            '03:00', '04:00', '05:00',\n",
    "            '06:00', '07:00', '08:00',\n",
    "            '09:00', '10:00', '11:00',\n",
    "            '12:00', '13:00', '14:00',\n",
    "            '15:00', '16:00', '17:00',\n",
    "            '18:00', '19:00', '20:00',\n",
    "            '21:00', '22:00', '23:00',\n",
    "        ],\n",
    "        'area': [\n",
    "            31.5, 118, 27,\n",
    "            122.5,\n",
    "        ],\n",
    "        'format': 'grib',\n",
    "    },\n",
    "    'download.grib')"
   ]
  },
  {
   "cell_type": "code",
   "execution_count": null,
   "id": "60620758-5438-4a2c-b078-45d4c275e85f",
   "metadata": {},
   "outputs": [],
   "source": []
  }
 ],
 "metadata": {
  "kernelspec": {
   "display_name": "Python 3 (ipykernel)",
   "language": "python",
   "name": "python3"
  },
  "language_info": {
   "codemirror_mode": {
    "name": "ipython",
    "version": 3
   },
   "file_extension": ".py",
   "mimetype": "text/x-python",
   "name": "python",
   "nbconvert_exporter": "python",
   "pygments_lexer": "ipython3",
   "version": "3.10.13"
  }
 },
 "nbformat": 4,
 "nbformat_minor": 5
}
