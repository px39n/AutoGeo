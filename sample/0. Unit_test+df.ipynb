{
 "cells": [
  {
   "cell_type": "code",
   "execution_count": 1,
   "id": "9fffb023-edc4-46dd-b8c0-e9977d41d233",
   "metadata": {},
   "outputs": [],
   "source": [
    "import sys \n",
    "sys.path.append(\"C:/Users/isxzl/OneDrive/Code/AutoGeo\")\n",
    "from tqdm import tqdm \n",
    "from sample.unit_test import generate_example, generate_large_dataset, print_file_structure\t\n",
    "from sample.dataset import H5Dataset"
   ]
  },
  {
   "cell_type": "markdown",
   "id": "5f08999d-17d0-4a66-970f-9cf4cbb1a1c9",
   "metadata": {},
   "source": [
    "# Test unit_test.py"
   ]
  },
  {
   "cell_type": "markdown",
   "id": "2292dc34-576c-49c2-b36a-ef21f0968aef",
   "metadata": {},
   "source": [
    "generate_example"
   ]
  },
  {
   "cell_type": "code",
   "execution_count": 3,
   "id": "842de4bd-6018-4592-84f2-ec36857f217e",
   "metadata": {},
   "outputs": [],
   "source": [
    "# Test generate_example\n",
    "q, m, n, t, c = 200, 10, 20, 20, 20  # Example dimensions\n",
    "test_data_0d = generate_example((q, c))\n",
    "test_data_1d = generate_example((q, t, c))\n",
    "test_data_2d = generate_example((q, m, n, c))\n",
    "test_data_3d = generate_example((q, m, n, t, c))\n",
    "\n",
    "# Example to get data in different formats\n",
    "numpy_data, numpy_labels = generate_example((q, c))  # Default numpy\n",
    "tensor_data, tensor_labels = generate_example((q, c), type=\"tensor\") # Default tensor\n",
    "dataset = generate_example((q, c), type=\"dataset\")  # Default dataset\n",
    "dataloader = generate_example((q, c), type=\"dataloader\") # Default dataloader\n"
   ]
  },
  {
   "cell_type": "code",
   "execution_count": 4,
   "id": "06eb671f-8b38-4a82-a58c-9e19766d0879",
   "metadata": {},
   "outputs": [
    {
     "name": "stderr",
     "output_type": "stream",
     "text": [
      "100%|██████████████████████████████████████████████████████████████████████████████| 500/500 [00:00<00:00, 6271.58it/s]\n",
      "100%|██████████████████████████████████████████████████████████████████████████████| 500/500 [00:00<00:00, 6787.54it/s]\n",
      "100%|██████████████████████████████████████████████████████████████████████████████| 500/500 [00:00<00:00, 6320.44it/s]\n",
      "100%|██████████████████████████████████████████████████████████████████████████████| 500/500 [00:00<00:00, 4083.88it/s]"
     ]
    },
    {
     "name": "stdout",
     "output_type": "stream",
     "text": [
      "Structure of C:\\Datasets\\Zhejiang20-23RS\\temp_training\\test_0d.h5:\n",
      " - Dataset 'data', Shape: (500, 3), Dtype: float32\n",
      " - Dataset 'labels', Shape: (500,), Dtype: float32\n",
      "\n",
      "Structure of C:\\Datasets\\Zhejiang20-23RS\\temp_training\\test_1d.h5:\n",
      " - Dataset 'data', Shape: (500, 12, 3), Dtype: float32\n",
      " - Dataset 'labels', Shape: (500,), Dtype: float32\n",
      "\n",
      "Structure of C:\\Datasets\\Zhejiang20-23RS\\temp_training\\test_2d.h5:\n",
      " - Dataset 'data', Shape: (500, 10, 20, 3), Dtype: float32\n",
      " - Dataset 'labels', Shape: (500,), Dtype: float32\n",
      "\n",
      "Structure of C:\\Datasets\\Zhejiang20-23RS\\temp_training\\test_3d.h5:\n",
      " - Dataset 'data', Shape: (500, 10, 20, 12, 3), Dtype: float32\n",
      " - Dataset 'labels', Shape: (500,), Dtype: float32\n",
      "\n"
     ]
    },
    {
     "name": "stderr",
     "output_type": "stream",
     "text": [
      "\n"
     ]
    }
   ],
   "source": [
    "# Test generate_large_dataset\n",
    "q, m, n, t, c = 500, 10, 20, 12, 3  # Example dimensions\n",
    "save_dir = \"C:/Datasets/Zhejiang20-23RS/temp_training\"\n",
    "\n",
    "# Generate and save datasets of different dimensions\n",
    "file_path_0d = generate_large_dataset((q, c), save_dir, name=\"test_0d\")\n",
    "file_path_1d = generate_large_dataset((q, t, c), save_dir, name=\"test_1d\")\n",
    "file_path_2d = generate_large_dataset((q, m, n, c), save_dir, name=\"test_2d\")\n",
    "file_path_3d = generate_large_dataset((q, m, n, t, c), save_dir, name=\"test_3d\")\n",
    "\n",
    "\n",
    "# Example usage\n",
    "file_paths = [file_path_0d, file_path_1d, file_path_2d, file_path_3d]\n",
    "\n",
    "for path in file_paths:\n",
    "    print_file_structure(path)\n",
    "    print()  # Add an empty line for better readability between files\n"
   ]
  },
  {
   "cell_type": "markdown",
   "id": "181fe647-59e8-492d-af9d-c0f60fa0a2aa",
   "metadata": {},
   "source": [
    "# Dataset\n",
    "1. Load saved dataset H5Dataset"
   ]
  },
  {
   "cell_type": "code",
   "execution_count": 12,
   "id": "24e8afa6-570f-40fa-ac55-696959137b5a",
   "metadata": {},
   "outputs": [
    {
     "name": "stdout",
     "output_type": "stream",
     "text": [
      "500\n"
     ]
    },
    {
     "name": "stderr",
     "output_type": "stream",
     "text": [
      "100%|██████████████████████████████████████████████████████████████████████████████████| 16/16 [00:00<00:00, 47.70it/s]\n"
     ]
    }
   ],
   "source": [
    "from torch.utils.data import DataLoader\n",
    "from tqdm import tqdm\n",
    "from torch.utils.data import DataLoader, random_split\n",
    "\n",
    "# Generate or load datasets\n",
    "dataset_0d = H5Dataset(file_path_0d )\n",
    "dataset_1d = H5Dataset(file_path_1d )\n",
    "dataset_2d = H5Dataset(file_path_2d )\n",
    "dataset_3d = H5Dataset(file_path_3d )\n",
    "\n",
    "# Print the length of the test dataset\n",
    "print(len(dataset_3d))\n",
    "\n",
    "# Example of splitting dataset_0d\n",
    "# Define the proportions or absolute numbers for your splits\n",
    "len_dataset = len(dataset)\n",
    "train_ds, test_ds = random_split(dataset, [int(0.8 * len_dataset), int(0.2 * len_dataset)])\n",
    "\n",
    "# Create DataLoaders\n",
    "train_loader = DataLoader(train_ds, batch_size=32, shuffle=True)\n",
    "test_loader = DataLoader(test_ds, batch_size=32, shuffle=False)\n",
    "\n",
    "# Example usage of the test_loader\n",
    "for x,y in tqdm(train_loader):\n",
    "    # Process your training data here\n",
    "     pass"
   ]
  },
  {
   "cell_type": "markdown",
   "id": "ae5a3ae0-d770-4a40-90d6-50c6efe54997",
   "metadata": {},
   "source": [
    "2. Prepare Dataframe with given csv and range"
   ]
  },
  {
   "cell_type": "code",
   "execution_count": null,
   "id": "dbd50add-6036-4003-93b9-d51413d2a958",
   "metadata": {},
   "outputs": [],
   "source": []
  }
 ],
 "metadata": {
  "kernelspec": {
   "display_name": "Python 3 (ipykernel)",
   "language": "python",
   "name": "python3"
  },
  "language_info": {
   "codemirror_mode": {
    "name": "ipython",
    "version": 3
   },
   "file_extension": ".py",
   "mimetype": "text/x-python",
   "name": "python",
   "nbconvert_exporter": "python",
   "pygments_lexer": "ipython3",
   "version": "3.10.13"
  }
 },
 "nbformat": 4,
 "nbformat_minor": 5
}
